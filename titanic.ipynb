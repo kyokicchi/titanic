{
 "cells": [
  {
   "cell_type": "code",
   "execution_count": 211,
   "metadata": {
    "collapsed": true
   },
   "outputs": [],
   "source": [
    "#pandasインポートとデータセット読み込み\n",
    "import pandas as pd\n",
    "df_train = pd.read_csv('train.csv')\n",
    "df_test = pd.read_csv('test.csv')\n"
   ]
  },
  {
   "cell_type": "code",
   "execution_count": 212,
   "metadata": {
    "collapsed": true
   },
   "outputs": [],
   "source": [
    "#ダミー変数化処理用関数\n",
    "\n",
    "def dummylize(df,n_item):\n",
    "    dum = pd.get_dummies(df[n_item], drop_first = True)\n",
    "    df = pd.concat((df, dum),axis = 1)\n",
    "    df = df.drop(n_item,axis = 1)\n",
    "    return df\n"
   ]
  },
  {
   "cell_type": "code",
   "execution_count": 213,
   "metadata": {
    "collapsed": true
   },
   "outputs": [],
   "source": [
    "#nullを0、それ以外を1とする関数\n",
    "def booleanize(df,n_item):\n",
    "    df_tmp = df[n_item].notnull() * 1\n",
    "    df_tmp.name = n_item\n",
    "\n",
    "    df = df.drop(n_item,axis = 1)\n",
    "    df = pd.concat((df, df_tmp), axis = 1)\n",
    "    return df\n"
   ]
  },
  {
   "cell_type": "code",
   "execution_count": 214,
   "metadata": {},
   "outputs": [],
   "source": [
    "#性別、乗車場所をダミー変数化、CabinをBoolean化\n",
    "\n",
    "df_train = dummylize(df_train,'Sex')\n",
    "df_train = dummylize(df_train,'Embarked')\n",
    "df_train = booleanize(df_train,'Cabin')\n",
    "\n",
    "\n",
    "df_test = dummylize(df_test,'Sex')\n",
    "df_test = dummylize(df_test,'Embarked')\n",
    "df_test = booleanize(df_test,'Cabin')\n"
   ]
  },
  {
   "cell_type": "code",
   "execution_count": 215,
   "metadata": {
    "collapsed": true
   },
   "outputs": [],
   "source": [
    "#Title列、Title数値化列、FamilyName列、FamilyName頻度列を追加する処理関数\n",
    "\n",
    "\n",
    "#Listを含まれるタイトルのみの文字列に変換するサブ関数\n",
    "\n",
    "def titleCheck(L):\n",
    "        if 'Miss' in L: return 'Miss'\n",
    "        elif 'Mrs' in L: return 'Mrs'\n",
    "        elif 'Master' in L: return 'Master'\n",
    "        elif 'Mr' in L: return 'Mr'\n",
    "        else: return \"\"\n",
    "\n",
    "\n",
    "#処理関数メイン\n",
    "\n",
    "def nameAnalysis(df):\n",
    "\n",
    "    l_names = [x.replace(\",\",\"\").replace(\".\",\"\").split(\" \") for x in df.Name.values.tolist()]\n",
    "#Mr. Mrs. などを仕分け\n",
    "    l_title = [titleCheck(x) for x in l_names]\n",
    "    df_title = pd.Series(l_title, name='Titles')\n",
    "\n",
    "#Mr. Mrs. などを数値化\n",
    "    from sklearn.preprocessing import LabelEncoder\n",
    "\n",
    "    le = LabelEncoder()\n",
    "    num_title = le.fit_transform(l_title)\n",
    "    df_n_title = pd.Series(num_title, name='TitlesNum')\n",
    "\n",
    "#ファミリーネーム抜出し\n",
    "\n",
    "    l_family = [x[0] for x in l_names]\n",
    "    df_family = pd.Series(l_family, name = \"Family\")\n",
    "\n",
    "#ファミリーネームの出現回数列を追加\n",
    "    df_n_family = df_family.apply(lambda x: (df_family == x).sum())\n",
    "    df_n_family.name = 'FamilyNum'\n",
    "\n",
    "#作成した各分析列を追加しリターン\n",
    "    df = pd.concat((df, df_title), axis = 1)\n",
    "    df = pd.concat((df, df_n_title), axis = 1)\n",
    "    df = pd.concat((df, df_family), axis = 1)\n",
    "    df = pd.concat((df, df_n_family), axis = 1)\n",
    "        \n",
    "    return df"
   ]
  },
  {
   "cell_type": "code",
   "execution_count": 216,
   "metadata": {},
   "outputs": [],
   "source": [
    "#名前処理関数をApply\n",
    "\n",
    "df_train = nameAnalysis(df_train)\n",
    "\n",
    "df_test = nameAnalysis(df_test)\n"
   ]
  },
  {
   "cell_type": "code",
   "execution_count": 217,
   "metadata": {},
   "outputs": [],
   "source": [
    "#年齢を世代区分け\n",
    "\n",
    "\n",
    "def ageGroup(x):\n",
    "        if 0 <= x and x < 10:\n",
    "            return 0\n",
    "        elif 10 <= x and x < 20:\n",
    "            return 1\n",
    "        elif 20 <= x and x < 40:\n",
    "            return 2\n",
    "        elif 40 <= x and x < 60:\n",
    "            return 3\n",
    "        elif 60 <= x:\n",
    "            return 4\n",
    "\n",
    "\n",
    "df_train.Age = df_train.Age.apply(lambda x: ageGroup(x))\n",
    "df_test.Age = df_test.Age.apply(lambda x: ageGroup(x))"
   ]
  },
  {
   "cell_type": "code",
   "execution_count": 218,
   "metadata": {},
   "outputs": [
    {
     "data": {
      "text/html": [
       "<div>\n",
       "<style>\n",
       "    .dataframe thead tr:only-child th {\n",
       "        text-align: right;\n",
       "    }\n",
       "\n",
       "    .dataframe thead th {\n",
       "        text-align: left;\n",
       "    }\n",
       "\n",
       "    .dataframe tbody tr th {\n",
       "        vertical-align: top;\n",
       "    }\n",
       "</style>\n",
       "<table border=\"1\" class=\"dataframe\">\n",
       "  <thead>\n",
       "    <tr style=\"text-align: right;\">\n",
       "      <th></th>\n",
       "      <th>PassengerId</th>\n",
       "      <th>Pclass</th>\n",
       "      <th>Name</th>\n",
       "      <th>Age</th>\n",
       "      <th>SibSp</th>\n",
       "      <th>Parch</th>\n",
       "      <th>Ticket</th>\n",
       "      <th>Fare</th>\n",
       "      <th>male</th>\n",
       "      <th>Q</th>\n",
       "      <th>S</th>\n",
       "      <th>Cabin</th>\n",
       "      <th>Titles</th>\n",
       "      <th>TitlesNum</th>\n",
       "      <th>Family</th>\n",
       "      <th>FamilyNum</th>\n",
       "    </tr>\n",
       "  </thead>\n",
       "  <tbody>\n",
       "    <tr>\n",
       "      <th>0</th>\n",
       "      <td>892</td>\n",
       "      <td>3</td>\n",
       "      <td>Kelly, Mr. James</td>\n",
       "      <td>2.0</td>\n",
       "      <td>0</td>\n",
       "      <td>0</td>\n",
       "      <td>330911</td>\n",
       "      <td>7.8292</td>\n",
       "      <td>1</td>\n",
       "      <td>1</td>\n",
       "      <td>0</td>\n",
       "      <td>0</td>\n",
       "      <td>Mr</td>\n",
       "      <td>3</td>\n",
       "      <td>Kelly</td>\n",
       "      <td>1</td>\n",
       "    </tr>\n",
       "    <tr>\n",
       "      <th>1</th>\n",
       "      <td>893</td>\n",
       "      <td>3</td>\n",
       "      <td>Wilkes, Mrs. James (Ellen Needs)</td>\n",
       "      <td>3.0</td>\n",
       "      <td>1</td>\n",
       "      <td>0</td>\n",
       "      <td>363272</td>\n",
       "      <td>7.0000</td>\n",
       "      <td>0</td>\n",
       "      <td>0</td>\n",
       "      <td>1</td>\n",
       "      <td>0</td>\n",
       "      <td>Mrs</td>\n",
       "      <td>4</td>\n",
       "      <td>Wilkes</td>\n",
       "      <td>1</td>\n",
       "    </tr>\n",
       "    <tr>\n",
       "      <th>2</th>\n",
       "      <td>894</td>\n",
       "      <td>2</td>\n",
       "      <td>Myles, Mr. Thomas Francis</td>\n",
       "      <td>4.0</td>\n",
       "      <td>0</td>\n",
       "      <td>0</td>\n",
       "      <td>240276</td>\n",
       "      <td>9.6875</td>\n",
       "      <td>1</td>\n",
       "      <td>1</td>\n",
       "      <td>0</td>\n",
       "      <td>0</td>\n",
       "      <td>Mr</td>\n",
       "      <td>3</td>\n",
       "      <td>Myles</td>\n",
       "      <td>1</td>\n",
       "    </tr>\n",
       "    <tr>\n",
       "      <th>3</th>\n",
       "      <td>895</td>\n",
       "      <td>3</td>\n",
       "      <td>Wirz, Mr. Albert</td>\n",
       "      <td>2.0</td>\n",
       "      <td>0</td>\n",
       "      <td>0</td>\n",
       "      <td>315154</td>\n",
       "      <td>8.6625</td>\n",
       "      <td>1</td>\n",
       "      <td>0</td>\n",
       "      <td>1</td>\n",
       "      <td>0</td>\n",
       "      <td>Mr</td>\n",
       "      <td>3</td>\n",
       "      <td>Wirz</td>\n",
       "      <td>1</td>\n",
       "    </tr>\n",
       "    <tr>\n",
       "      <th>4</th>\n",
       "      <td>896</td>\n",
       "      <td>3</td>\n",
       "      <td>Hirvonen, Mrs. Alexander (Helga E Lindqvist)</td>\n",
       "      <td>2.0</td>\n",
       "      <td>1</td>\n",
       "      <td>1</td>\n",
       "      <td>3101298</td>\n",
       "      <td>12.2875</td>\n",
       "      <td>0</td>\n",
       "      <td>0</td>\n",
       "      <td>1</td>\n",
       "      <td>0</td>\n",
       "      <td>Mrs</td>\n",
       "      <td>4</td>\n",
       "      <td>Hirvonen</td>\n",
       "      <td>1</td>\n",
       "    </tr>\n",
       "  </tbody>\n",
       "</table>\n",
       "</div>"
      ],
      "text/plain": [
       "   PassengerId  Pclass                                          Name  Age  \\\n",
       "0          892       3                              Kelly, Mr. James  2.0   \n",
       "1          893       3              Wilkes, Mrs. James (Ellen Needs)  3.0   \n",
       "2          894       2                     Myles, Mr. Thomas Francis  4.0   \n",
       "3          895       3                              Wirz, Mr. Albert  2.0   \n",
       "4          896       3  Hirvonen, Mrs. Alexander (Helga E Lindqvist)  2.0   \n",
       "\n",
       "   SibSp  Parch   Ticket     Fare  male  Q  S  Cabin Titles  TitlesNum  \\\n",
       "0      0      0   330911   7.8292     1  1  0      0     Mr          3   \n",
       "1      1      0   363272   7.0000     0  0  1      0    Mrs          4   \n",
       "2      0      0   240276   9.6875     1  1  0      0     Mr          3   \n",
       "3      0      0   315154   8.6625     1  0  1      0     Mr          3   \n",
       "4      1      1  3101298  12.2875     0  0  1      0    Mrs          4   \n",
       "\n",
       "     Family  FamilyNum  \n",
       "0     Kelly          1  \n",
       "1    Wilkes          1  \n",
       "2     Myles          1  \n",
       "3      Wirz          1  \n",
       "4  Hirvonen          1  "
      ]
     },
     "execution_count": 218,
     "metadata": {},
     "output_type": "execute_result"
    }
   ],
   "source": [
    "df_test.head()"
   ]
  },
  {
   "cell_type": "code",
   "execution_count": 219,
   "metadata": {},
   "outputs": [],
   "source": [
    "#年齢推定モデルに渡すためテスト用加工済みCSVを保存\n",
    "\n",
    "df_train.to_csv('forAgePred.csv')\n",
    "\n"
   ]
  },
  {
   "cell_type": "code",
   "execution_count": 220,
   "metadata": {
    "collapsed": true
   },
   "outputs": [],
   "source": [
    "#別NoteBookの処理で作成・保存した年齢推定モデルの読み込み\n",
    "\n",
    "import pickle\n",
    "filename = 'age_pred.sav'\n",
    "model_age_pred = pickle.load(open(filename, 'rb'))"
   ]
  },
  {
   "cell_type": "code",
   "execution_count": 221,
   "metadata": {
    "collapsed": true
   },
   "outputs": [],
   "source": [
    "#Age欠損部分を年齢推定モデルを使い補完する処理まとめ関数\n",
    "\n",
    "def fillMissingAge(df):\n",
    "\n",
    "    #モデルを使って予測し結果をリストに保存→Seriesに変換\n",
    "    l_pred = ['TitlesNum']\n",
    "    res_pred = model_age_pred.predict(df[l_pred])\n",
    "    df_res_pred =pd.Series(res_pred, name='prediction')\n",
    "    df_res_pred = df_res_pred.apply(lambda x: float(x/100))\n",
    "\n",
    "    df_real_age = df['Age']\n",
    "    df_real_age = df_real_age.fillna(0)\n",
    "\n",
    "\n",
    "    #もともとのAge列の欠損値のみPredictの結果で置き換え　(もっといいやり方があるはず)\n",
    "\n",
    "    df_real_age = df['Age']\n",
    "    df_real_age = df_real_age.fillna(0)\n",
    "\n",
    "    l_mix = []\n",
    "\n",
    "    for i,v in enumerate(df_real_age):\n",
    "        if v != 0:\n",
    "            l_mix.append(v)\n",
    "        else:\n",
    "            l_mix.append(df_res_pred[i])\n",
    "\n",
    "    df_mix = pd.Series(l_mix, name='Age')\n",
    "\n",
    "    #Age列を差し替え\n",
    "    df = df.drop('Age',axis = 1)\n",
    "    df = pd.concat((df,df_mix),axis = 1)\n",
    "\n",
    "    return df"
   ]
  },
  {
   "cell_type": "code",
   "execution_count": 222,
   "metadata": {},
   "outputs": [],
   "source": [
    "\n",
    "#Age列欠損補完をApply\n",
    "\n",
    "df_train = fillMissingAge(df_train)\n",
    "\n",
    "df_test = fillMissingAge(df_test)\n"
   ]
  },
  {
   "cell_type": "code",
   "execution_count": 228,
   "metadata": {
    "collapsed": true
   },
   "outputs": [],
   "source": [
    "#XGBoostモデル\n",
    "\n",
    "def get_xgb_model3(X, Y):\n",
    "    import xgboost as xgb\n",
    "\n",
    "    import scipy.stats as st\n",
    "    from sklearn.model_selection import RandomizedSearchCV\n",
    "\n",
    "    one_to_left = st.beta(10, 1)\n",
    "    from_zero_positive = st.expon(0, 50)\n",
    "\n",
    "    params = {\n",
    "        \"n_estimators\": st.randint(3, 40),\n",
    "        \"max_depth\": st.randint(3, 40),\n",
    "        \"learning_rate\": st.uniform(0.05, 0.4),\n",
    "        \"colsample_bytree\": one_to_left,\n",
    "        \"subsample\": one_to_left,\n",
    "        \"gamma\": st.uniform(0, 10),\n",
    "        'reg_alpha': from_zero_positive,\n",
    "        \"min_child_weight\": from_zero_positive,\n",
    "    }\n",
    "\n",
    "    xgbreg = xgb.XGBRegressor(nthreads=-1)\n",
    "\n",
    "\n",
    "    gs = RandomizedSearchCV(xgbreg, params, n_jobs=3)\n",
    "    res = gs.fit(X, Y)\n",
    "    print(gs.best_params_)\n",
    "\n",
    "    return res\n"
   ]
  },
  {
   "cell_type": "code",
   "execution_count": 230,
   "metadata": {},
   "outputs": [],
   "source": [
    "#学習・テスト用データセット整備\n",
    "\n",
    "df_train = df_train.fillna(0)\n",
    "l_features = ['Pclass','male','Q','S','TitlesNum','FamilyNum','Cabin','Age']\n",
    "df_x_pack = df_train[l_features]\n",
    "df_y_pack = df_train.Survived\n"
   ]
  },
  {
   "cell_type": "code",
   "execution_count": 231,
   "metadata": {},
   "outputs": [
    {
     "name": "stdout",
     "output_type": "stream",
     "text": [
      "{'colsample_bytree': 0.7382787442497637, 'gamma': 3.0105489330161852, 'learning_rate': 0.11287664854187357, 'max_depth': 20, 'min_child_weight': 1.5409554866036888, 'n_estimators': 36, 'reg_alpha': 13.511350161859159, 'subsample': 0.97599969583950996}\n"
     ]
    }
   ],
   "source": [
    "#モデル学習\n",
    "\n",
    "from sklearn.model_selection import train_test_split\n",
    "\n",
    "X_train, X_test, y_train, y_test = train_test_split(df_x_pack, df_y_pack, test_size=0.25)\n",
    "model_final = get_xgb_model3(X_train, y_train)\n"
   ]
  },
  {
   "cell_type": "code",
   "execution_count": 232,
   "metadata": {
    "collapsed": true
   },
   "outputs": [],
   "source": [
    "#モデル保存\n",
    "\n",
    "import pickle\n",
    "filename = 'xgb_model.sav'\n",
    "pickle.dump(model_final, open(filename, 'wb'))\n",
    "\n",
    "loaded_m_xgb = pickle.load(open(filename, 'rb'))"
   ]
  },
  {
   "cell_type": "code",
   "execution_count": 237,
   "metadata": {},
   "outputs": [],
   "source": [
    "\n",
    "from sklearn.metrics import mean_squared_error\n",
    "\n",
    "res_xgb = loaded_m_xgb.predict(X_test)\n",
    "result = mean_squared_error(y_test, res_xgb)\n"
   ]
  },
  {
   "cell_type": "code",
   "execution_count": 238,
   "metadata": {},
   "outputs": [
    {
     "data": {
      "text/plain": [
       "0.16616249667422364"
      ]
     },
     "execution_count": 238,
     "metadata": {},
     "output_type": "execute_result"
    }
   ],
   "source": [
    "result"
   ]
  },
  {
   "cell_type": "code",
   "execution_count": 243,
   "metadata": {},
   "outputs": [
    {
     "name": "stdout",
     "output_type": "stream",
     "text": [
      "0.789237668161\n"
     ]
    }
   ],
   "source": [
    "dig_res_xgb = [0 if x <=0.5 else 1 for x in res_xgb]\n",
    "dig_res_xgb\n",
    "\n",
    "print(sum(dig_res_xgb == y_test) / len(dig_res_xgb))\n"
   ]
  },
  {
   "cell_type": "code",
   "execution_count": null,
   "metadata": {
    "collapsed": true
   },
   "outputs": [],
   "source": []
  }
 ],
 "metadata": {
  "kernelspec": {
   "display_name": "Python 3",
   "language": "python",
   "name": "python3"
  },
  "language_info": {
   "codemirror_mode": {
    "name": "ipython",
    "version": 3
   },
   "file_extension": ".py",
   "mimetype": "text/x-python",
   "name": "python",
   "nbconvert_exporter": "python",
   "pygments_lexer": "ipython3",
   "version": "3.6.3"
  }
 },
 "nbformat": 4,
 "nbformat_minor": 2
}
