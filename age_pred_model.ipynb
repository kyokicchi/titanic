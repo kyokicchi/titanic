{
 "cells": [
  {
   "cell_type": "code",
   "execution_count": 60,
   "metadata": {
    "collapsed": true
   },
   "outputs": [],
   "source": [
    "#pandasインポートとデータセット読み込み\n",
    "import pandas as pd\n",
    "df_forAgePred = pd.read_csv('forAgePred.csv')\n",
    "\n",
    "#欠損値の行を削除\n",
    "df_forAgePred = df_forAgePred.dropna()\n"
   ]
  },
  {
   "cell_type": "code",
   "execution_count": 61,
   "metadata": {
    "collapsed": true
   },
   "outputs": [],
   "source": [
    "#Mr. Mrs. 等の呼称ごとの年齢を推定\n",
    "\n",
    "#年齢をInt化し100倍に\n",
    "x = df_forAgePred.Age.apply(lambda x: int(x*100))\n",
    "df_forAgePred = df_forAgePred.drop('Age',axis =1)\n",
    "x.name = 'Age'\n",
    "df_forAgePred = pd.concat((df_forAgePred, x), axis = 1)\n",
    "\n",
    "\n",
    "#推定に使う要素Xを指定。数値化したタイトル列\n",
    "l_pred = ['TitlesNum']"
   ]
  },
  {
   "cell_type": "code",
   "execution_count": 62,
   "metadata": {},
   "outputs": [],
   "source": [
    "#試すモデルを指定\n",
    "\n",
    "from sklearn.linear_model import LogisticRegression\n",
    "from sklearn.svm import SVC, LinearSVC\n",
    "from sklearn.neighbors import KNeighborsClassifier\n",
    "from sklearn.tree import DecisionTreeClassifier\n",
    "from sklearn.ensemble import RandomForestClassifier\n",
    "from sklearn.neural_network import MLPClassifier\n",
    "\n",
    "from sklearn.metrics import mean_squared_error\n",
    "from sklearn.model_selection import train_test_split\n",
    "\n",
    "\n",
    "names = ['LogisticRegression',\n",
    "  'SVC',\n",
    "  'LinearSVC',\n",
    "  'KNeighbors',\n",
    "  'DecisionTree',\n",
    "  'RandomForest',\n",
    "  'MLPClassifier']\n",
    "\n",
    "l_models = []\n",
    "\n",
    "l_models.append((\"LogisticRegression\", LogisticRegression()))\n",
    "l_models.append((\"SVC\", SVC()))\n",
    "l_models.append((\"LinearSVC\", LinearSVC()))\n",
    "l_models.append((\"KNeighbors\", KNeighborsClassifier()))\n",
    "l_models.append((\"DecisionTree\", DecisionTreeClassifier()))\n",
    "l_models.append((\"RandomForest\", RandomForestClassifier()))\n",
    "l_models.append((\"MLPClassifier\", MLPClassifier(solver='lbfgs', random_state=0)))\n"
   ]
  },
  {
   "cell_type": "code",
   "execution_count": 63,
   "metadata": {
    "collapsed": true
   },
   "outputs": [],
   "source": [
    "#機械学習モデル\n",
    "\n",
    "def evaluate_models(df_forAgePred, l_pred, l_models):\n",
    "\n",
    "    results = []\n",
    "    names = []\n",
    "\n",
    "    X_train, X_test, y_train, y_test = train_test_split(df_forAgePred[l_pred], df_forAgePred.Age, test_size=0.25)\n",
    "\n",
    "    for name, model in l_models:\n",
    "        model.fit(X_train, y_train)\n",
    "        res_pred = model.predict(X_test)\n",
    "        result = mean_squared_error(y_test, res_pred)\n",
    "\n",
    "        names.append(name)\n",
    "        results.append(result)\n",
    "\n",
    "    return names, results"
   ]
  },
  {
   "cell_type": "code",
   "execution_count": 64,
   "metadata": {},
   "outputs": [
    {
     "name": "stdout",
     "output_type": "stream",
     "text": [
      "test 0\n",
      "test 1\n",
      "test 2\n",
      "test 3\n",
      "test 4\n",
      "test 5\n",
      "test 6\n",
      "test 7\n",
      "test 8\n",
      "test 9\n",
      "done\n"
     ]
    }
   ],
   "source": [
    "#各種機械学習モデルを使い年齢推定テスト\n",
    "\n",
    "import statistics\n",
    "\n",
    "result_list = []\n",
    "\n",
    "for i in range(0,10):\n",
    "    print('test {0}'.format(i))\n",
    "    name, res = evaluate_models(df_forAgePred, l_pred, l_models)\n",
    "    for x, y in zip(name, res):\n",
    "        result_list.append([x, y])\n",
    "\n",
    "print('done')"
   ]
  },
  {
   "cell_type": "code",
   "execution_count": 65,
   "metadata": {},
   "outputs": [
    {
     "name": "stdout",
     "output_type": "stream",
     "text": [
      "mean squared error results by model\n",
      "\n",
      "LogisticRegression\n",
      "avg: 6,703.49 / median: 6,831.40\n",
      "SVC\n",
      "avg: 6,703.49 / median: 6,831.40\n",
      "LinearSVC\n",
      "avg: 6,703.49 / median: 6,831.40\n",
      "KNeighbors\n",
      "avg: 7,255.81 / median: 7,063.95\n",
      "DecisionTree\n",
      "avg: 6,703.49 / median: 6,831.40\n",
      "RandomForest\n",
      "avg: 6,703.49 / median: 6,831.40\n",
      "MLPClassifier\n",
      "avg: 6,703.49 / median: 6,831.40\n"
     ]
    }
   ],
   "source": [
    "#結果表示\n",
    "\n",
    "print('mean squared error results by model')\n",
    "print()\n",
    "for n in names:\n",
    "    r = [i[1] for i in result_list if i[0] == n]\n",
    "    print(n)\n",
    "    print('avg: {0:,.2f} / median: {1:,.2f}'.format(sum(r)/len(r), statistics.median(r)))"
   ]
  },
  {
   "cell_type": "code",
   "execution_count": 66,
   "metadata": {
    "collapsed": true
   },
   "outputs": [],
   "source": [
    "#ランダムフォレストのGrid Search Cross Validation\n",
    "\n",
    "def applyGSCV(model, param, X, Y):\n",
    "    from sklearn.model_selection import GridSearchCV\n",
    "\n",
    "    res = GridSearchCV(model, param, cv=3)\n",
    "    res.fit(X, Y)\n",
    "\n",
    "    return res"
   ]
  },
  {
   "cell_type": "code",
   "execution_count": 67,
   "metadata": {},
   "outputs": [
    {
     "name": "stdout",
     "output_type": "stream",
     "text": [
      "done\n"
     ]
    }
   ],
   "source": [
    "#選択したモデルを学習させる\n",
    "\n",
    "from sklearn.ensemble import RandomForestClassifier\n",
    "model_selected = RandomForestClassifier()\n",
    "\n",
    "obj_param = {\n",
    "'n_estimators': [5,10,20,30,50,100,300],\n",
    "'max_depth': [3,5,10,15,20,25,30,40,50,100],\n",
    "'random_state': [0]\n",
    "}\n",
    "\n",
    "df_feature = df_forAgePred[l_pred]\n",
    "df_answer = df_forAgePred[\"Age\"]\n",
    "\n",
    "model_AgePred = applyGSCV(model_selected, obj_param, df_feature, df_answer)\n",
    "\n",
    "print('done')"
   ]
  },
  {
   "cell_type": "code",
   "execution_count": 68,
   "metadata": {},
   "outputs": [],
   "source": [
    "#学習したモデルを保存する\n",
    "\n",
    "import pickle\n",
    "filename = 'age_pred.sav'\n",
    "pickle.dump(model_AgePred, open(filename, 'wb'))"
   ]
  }
 ],
 "metadata": {
  "kernelspec": {
   "display_name": "Python 3",
   "language": "python",
   "name": "python3"
  },
  "language_info": {
   "codemirror_mode": {
    "name": "ipython",
    "version": 3
   },
   "file_extension": ".py",
   "mimetype": "text/x-python",
   "name": "python",
   "nbconvert_exporter": "python",
   "pygments_lexer": "ipython3",
   "version": "3.6.3"
  }
 },
 "nbformat": 4,
 "nbformat_minor": 2
}
